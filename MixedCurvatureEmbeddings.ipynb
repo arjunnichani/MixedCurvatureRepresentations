{
  "nbformat": 4,
  "nbformat_minor": 0,
  "metadata": {
    "colab": {
      "provenance": []
    },
    "kernelspec": {
      "name": "python3",
      "display_name": "Python 3"
    },
    "language_info": {
      "name": "python"
    }
  },
  "cells": [
    {
      "cell_type": "code",
      "execution_count": 23,
      "metadata": {
        "id": "r0xrqG8lSxiF"
      },
      "outputs": [],
      "source": [
        "# Imports\n",
        "\n",
        "import numpy as np\n",
        "\n",
        "import torch\n",
        "from torch import nn\n",
        "from torch.autograd import Variable"
      ]
    },
    {
      "cell_type": "code",
      "source": [
        "# Constants\n",
        "T = 5 # Iterations of RSGD\n",
        "m = 1 # number of spherical\n",
        "n = 1 # number of hyperbolic\n",
        "V = 5 # Number of vertices in the graph\n",
        "v = torch.rand(V, n+m+1)\n",
        "J = torch.diag(torch.ones(V)) # Make identity matrix\n",
        "J[0,0] = -1 # Convert the identity matrix to Minkowski Matrix"
      ],
      "metadata": {
        "id": "TFatAvB4TYqN"
      },
      "execution_count": 24,
      "outputs": []
    },
    {
      "cell_type": "code",
      "source": [
        "# Distance Functions\n",
        "\n",
        "# Manually coded for a graph with a 5 vertices that makes a cycle\n",
        "def graph_distance(i, j):\n",
        "  if j-i == 1:\n",
        "    return 1\n",
        "  if j-i == 2:\n",
        "    return 2\n",
        "  if j-i == 3:\n",
        "    return 2\n",
        "  if j-i == 4:\n",
        "    return 1\n",
        "  return 0"
      ],
      "metadata": {
        "id": "B4n4qf3huVwp"
      },
      "execution_count": 25,
      "outputs": []
    },
    {
      "cell_type": "code",
      "source": [
        "# TODO\n",
        "def spherical_distance(x, y):\n",
        "  return torch.sqrt((y - x)**2)\n",
        "# TODO\n",
        "def hyperbolic_distance(x, y):\n",
        "  return torch.sqrt((y - x)**2)\n",
        "\n",
        "def euclidean_distance(x,y):\n",
        "  return torch.sqrt((y - x)**2)"
      ],
      "metadata": {
        "id": "d1Hm1QBVIex1"
      },
      "execution_count": 26,
      "outputs": []
    },
    {
      "cell_type": "code",
      "source": [
        "def product_space_distance(X, Y, m, n):\n",
        "\n",
        "  total_distance = 0\n",
        "  for i in range(m):\n",
        "    total_distance += spherical_distance(X[i], Y[i])\n",
        "  for i in range(m, m + n):\n",
        "    total_distance += hyperbolic_distance(X[i], Y[i])\n",
        "  for i in range(m + n, len(X)):\n",
        "    total_distance += euclidean_distance(X[i], Y[i])\n",
        "\n",
        "  return total_distance"
      ],
      "metadata": {
        "id": "nqC4v_clIhLC"
      },
      "execution_count": 27,
      "outputs": []
    },
    {
      "cell_type": "code",
      "source": [
        "# Loss Function\n",
        "\n",
        "def embedding_loss(x_embedding, m, n):\n",
        "  loss = torch.tensor(0.0)\n",
        "  for i in range(V - 1):\n",
        "    for j in range(i+1, V):\n",
        "      ps_dist = product_space_distance(x_embedding[i], x_embedding[j], m, n)\n",
        "      graph_dist = graph_distance(i,j)\n",
        "      loss += (ps_dist/graph_dist - 1)**2\n",
        "\n",
        "  return torch.sqrt(loss)"
      ],
      "metadata": {
        "id": "7zBkv1BGTaJt"
      },
      "execution_count": 28,
      "outputs": []
    },
    {
      "cell_type": "code",
      "source": [
        "# Algorithm 1\n",
        "\n",
        "x_t = torch.rand(V, n+m+1, requires_grad=True) # What should this be - (V, M+N+1) Tensor - embedding for every vertex in the graph\n",
        "#print(x_t.shape)\n",
        "\n",
        "\n",
        "for t in range(T): \n",
        "  loss = embedding_loss(x_t, m, n)\n",
        "  print(loss.item())\n",
        "  loss.backward() \n",
        "  h = x_t.grad\n",
        "  #print(h.shape)\n",
        "  for i in range(0, m):\n",
        "    v[:,i] = h[:, i] - torch.dot(h[:, i], x_t[:, i]) * x_t[:, i]\n",
        "  for i in range(m, m + n):\n",
        "    v[:,i] = h[:, i] + torch.dot(torch.matmul(h[:, i].T, J), x_t[:, i]) * x_t[:, i] # Minkowski inner product\n",
        "    v[:,i] = torch.matmul(J, v[:,i])\n",
        "  # Euclidean\n",
        "  v[:,m+n] = h[:, m +n]\n",
        "  # Exponential Map - TODO\n",
        "  for i in range(m + n + 1):\n",
        "    with torch.no_grad():\n",
        "      x_t[:,i] = torch.exp(v[:,i]) # Eponential map - How to do this correctly\n"
      ],
      "metadata": {
        "colab": {
          "base_uri": "https://localhost:8080/"
        },
        "id": "pf6kfachTNT2",
        "outputId": "a59a32f8-9c84-4249-a50c-c09bf8c3c9b8"
      },
      "execution_count": 30,
      "outputs": [
        {
          "output_type": "stream",
          "name": "stdout",
          "text": [
            "1.5751817226409912\n",
            "3.594003200531006\n",
            "994093248.0\n",
            "nan\n",
            "nan\n"
          ]
        },
        {
          "output_type": "stream",
          "name": "stderr",
          "text": [
            "/usr/local/lib/python3.7/dist-packages/ipykernel_launcher.py:14: UserWarning: The use of `x.T` on tensors of dimension other than 2 to reverse their shape is deprecated and it will throw an error in a future release. Consider `x.mT` to transpose batches of matricesor `x.permute(*torch.arange(x.ndim - 1, -1, -1))` to reverse the dimensions of a tensor. (Triggered internally at  ../aten/src/ATen/native/TensorShape.cpp:2981.)\n",
            "  \n"
          ]
        }
      ]
    },
    {
      "cell_type": "code",
      "source": [],
      "metadata": {
        "id": "T__QBQpYNpAc"
      },
      "execution_count": null,
      "outputs": []
    },
    {
      "cell_type": "code",
      "source": [],
      "metadata": {
        "id": "i3x_SyEINpDH"
      },
      "execution_count": null,
      "outputs": []
    },
    {
      "cell_type": "markdown",
      "source": [
        "Scratch"
      ],
      "metadata": {
        "id": "0rY383yMNpkZ"
      }
    },
    {
      "cell_type": "code",
      "source": [
        "x = torch.rand(3, 7)\n",
        "\n",
        "x"
      ],
      "metadata": {
        "colab": {
          "base_uri": "https://localhost:8080/"
        },
        "id": "DmYiXyc3EZtW",
        "outputId": "6e313e89-e12a-4212-e41e-2a23c2889a03"
      },
      "execution_count": 21,
      "outputs": [
        {
          "output_type": "execute_result",
          "data": {
            "text/plain": [
              "tensor([[0.3663, 0.4816, 0.5139, 0.5029, 0.8967, 0.5575, 0.4727],\n",
              "        [0.1491, 0.0482, 0.5064, 0.2531, 0.1705, 0.9138, 0.4764],\n",
              "        [0.0981, 0.7895, 0.6832, 0.5813, 0.2268, 0.2185, 0.2900]])"
            ]
          },
          "metadata": {},
          "execution_count": 21
        }
      ]
    },
    {
      "cell_type": "code",
      "source": [
        "x[:,0]"
      ],
      "metadata": {
        "colab": {
          "base_uri": "https://localhost:8080/"
        },
        "id": "qmqE729uEctH",
        "outputId": "a8ca0c68-9f57-46aa-dc7d-4fd288143529"
      },
      "execution_count": 22,
      "outputs": [
        {
          "output_type": "execute_result",
          "data": {
            "text/plain": [
              "tensor([0.3663, 0.1491, 0.0981])"
            ]
          },
          "metadata": {},
          "execution_count": 22
        }
      ]
    }
  ]
}